{
  "nbformat": 4,
  "nbformat_minor": 0,
  "metadata": {
    "colab": {
      "provenance": []
    },
    "kernelspec": {
      "name": "python3",
      "display_name": "Python 3"
    },
    "language_info": {
      "name": "python"
    }
  },
  "cells": [
    {
      "cell_type": "markdown",
      "source": [
        "Exercise-1\n"
      ],
      "metadata": {
        "id": "ZfXoVKuN8A2N"
      }
    },
    {
      "cell_type": "code",
      "source": [
        "def Length(x,type):\n",
        "  if (type==\"m\"):\n",
        "    result=x*3.28\n",
        "  elif(type==\"ft\"):\n",
        "    result=x/3.28\n",
        "  return result\n",
        "\n",
        "def Weight(x,type):\n",
        "  if (type==\"kg\"):\n",
        "    result=x*2.20\n",
        "  elif(type==\"lb\"):\n",
        "    result=x/2.20\n",
        "  return result\n",
        "\n",
        "def Volume(x,type):\n",
        "  if (type==\"ltr\"):\n",
        "    result=x*3.78\n",
        "  elif(type==\"gal\"):\n",
        "    result=x/3.78\n",
        "  return result\n",
        "\n",
        "\n",
        "conversion=input(\"Enter the type of measurement you would like to convert(length, weight, volume): \")\n",
        "a=input(\"Enter the value to be converted: \")\n",
        "try:\n",
        "    a=int(a)\n",
        "except:\n",
        "    print(\"Invalid input\")\n",
        "type=input(\"Enter the type of value you have entered: m,ft,kg,lb,ltr,gal: \")\n",
        "if conversion==\"length\":\n",
        "  print(Length(a,type))\n",
        "elif conversion==\"weight\":\n",
        "  print(Weight(a,type))\n",
        "elif conversion==\"volume\":\n",
        "  print(Volume(a,type))\n",
        "else:\n",
        "  print(\"Invalid\")"
      ],
      "metadata": {
        "colab": {
          "base_uri": "https://localhost:8080/"
        },
        "id": "XGZVk5Xw8DUp",
        "outputId": "a227fb84-c41d-4fa4-80e8-7997183cdeed"
      },
      "execution_count": null,
      "outputs": [
        {
          "output_type": "stream",
          "name": "stdout",
          "text": [
            "Enter the type of measurement you would like to convert(length, weight, volume): weight\n",
            "Enter the value to be converted: 85\n",
            "Enter the type of value you have entered: m,ft,kg,lb,ltr,gal: kg\n",
            "187.00000000000003\n"
          ]
        }
      ]
    },
    {
      "cell_type": "markdown",
      "source": [
        "Exercise 2"
      ],
      "metadata": {
        "id": "IAVulQA7Ffgt"
      }
    },
    {
      "cell_type": "code",
      "source": [
        "def calculate_total(values):\n",
        "    # Receives a list and returns the total sum of its elements\n",
        "    total = 0\n",
        "    for num in values:\n",
        "        total += num\n",
        "    return total\n",
        "\n",
        "def compute_average(values):\n",
        "    # Receives a list and returns the mean value of its elements\n",
        "    total = 0\n",
        "    for num in values:\n",
        "        total += num\n",
        "    return total / len(values)\n",
        "\n",
        "def get_highest(values):\n",
        "    # Returns the largest element in the given list\n",
        "    return max(values)\n",
        "\n",
        "def get_lowest(values):\n",
        "    # Returns the smallest element in the given list\n",
        "    return min(values)\n",
        "\n",
        "user_input = input(\"Provide numbers separated by spaces: \")\n",
        "try:\n",
        "    numbers = [int(i) for i in user_input.split() if i.isdigit()]\n",
        "except:\n",
        "    print(\"Please enter valid numeric values.\")\n",
        "\n",
        "operation = input(\"Select an operation: sum, average, maximum, minimum: \")\n",
        "\n",
        "match operation:\n",
        "    case \"sum\":\n",
        "        print(\"Total sum:\", calculate_total(numbers))\n",
        "    case \"average\":\n",
        "        print(\"Computed average:\", compute_average(numbers))\n",
        "    case \"maximum\":\n",
        "        print(\"Largest number:\", get_highest(numbers))\n",
        "    case \"minimum\":\n",
        "        print(\"Smallest number:\", get_lowest(numbers))\n"
      ],
      "metadata": {
        "id": "cyID6hSY8E5T",
        "colab": {
          "base_uri": "https://localhost:8080/"
        },
        "outputId": "b2f54cea-17b4-4b71-e333-fa6e8402a156"
      },
      "execution_count": null,
      "outputs": [
        {
          "output_type": "stream",
          "name": "stdout",
          "text": [
            "Provide numbers separated by spaces: 2 6 8 10 4\n",
            "Select an operation: sum, average, maximum, minimum: sum\n",
            "Total sum: 30\n"
          ]
        }
      ]
    },
    {
      "cell_type": "markdown",
      "source": [
        "Exercise - 3"
      ],
      "metadata": {
        "id": "Vq0oTqclG18n"
      }
    },
    {
      "cell_type": "code",
      "source": [
        "def extract_every_other(lst):\n",
        "    if not isinstance(lst, list):\n",
        "        raise TypeError(\"Input must be a list.\")\n",
        "    return [item for idx, item in enumerate(lst) if idx % 2 == 0]\n",
        "print(extract_every_other([2, 4, 6, 8, 6, 4]))\n"
      ],
      "metadata": {
        "colab": {
          "base_uri": "https://localhost:8080/"
        },
        "id": "stBNPmQGG4Ar",
        "outputId": "36972079-0ccc-44f5-9138-29132d3c6715"
      },
      "execution_count": null,
      "outputs": [
        {
          "output_type": "stream",
          "name": "stdout",
          "text": [
            "[2, 6, 6]\n"
          ]
        }
      ]
    },
    {
      "cell_type": "markdown",
      "source": [
        "Exercise - 4"
      ],
      "metadata": {
        "id": "0ugRT1WCH5Me"
      }
    },
    {
      "cell_type": "code",
      "source": [
        "def get_sublist(lst, start, end):\n",
        "  \"\"\"\n",
        "    Returns a sublist from a given start to end index.\n",
        "\n",
        "    Args:\n",
        "        lst (list): The input list.\n",
        "        start (int): The starting index (inclusive).\n",
        "        end (int): The ending index (inclusive).\n",
        "\n",
        "    Returns:\n",
        "        list: The extracted sublist.\n",
        "    \"\"\"\n",
        "  sub_lst = lst[start:end + 1]  # Extract sublist\n",
        "  return sub_lst\n",
        "\n",
        "print(get_sublist([10, 20, 30, 40, 50, 60], 2, 4))"
      ],
      "metadata": {
        "colab": {
          "base_uri": "https://localhost:8080/"
        },
        "id": "3QFpEiKJH6tX",
        "outputId": "d487cdb4-bc93-4b7d-89e5-20e80098dd1b"
      },
      "execution_count": null,
      "outputs": [
        {
          "output_type": "stream",
          "name": "stdout",
          "text": [
            "[30, 40, 50]\n"
          ]
        }
      ]
    },
    {
      "cell_type": "markdown",
      "source": [
        "Exercise - 5"
      ],
      "metadata": {
        "id": "qXN1WDXhH8bE"
      }
    },
    {
      "cell_type": "code",
      "source": [
        "def reverse_list(lst):\n",
        "    \"\"\"\n",
        "    Reverses the order of elements in a given list.\n",
        "\n",
        "    Args:\n",
        "        lst (list): The input list.\n",
        "\n",
        "    Returns:\n",
        "        list: A new list with elements in reverse order.\n",
        "    \"\"\"\n",
        "    rev_lst = lst[::-1]  # Reverse the list\n",
        "    return rev_lst\n",
        "\n",
        "print(reverse_list([10, 20, 30, 40, 50, 60]))\n"
      ],
      "metadata": {
        "colab": {
          "base_uri": "https://localhost:8080/"
        },
        "id": "h_oBpc0lH8_z",
        "outputId": "4b0e0d50-3b0d-4621-c27b-770eec934b60"
      },
      "execution_count": null,
      "outputs": [
        {
          "output_type": "stream",
          "name": "stdout",
          "text": [
            "[60, 50, 40, 30, 20, 10]\n"
          ]
        }
      ]
    },
    {
      "cell_type": "markdown",
      "source": [
        "Exercise - 6"
      ],
      "metadata": {
        "id": "XxfatN0MH__X"
      }
    },
    {
      "cell_type": "code",
      "source": [
        "def remove_first_last(lst):\n",
        "    \"\"\"\n",
        "    Removes the first and last element from a given list.\n",
        "\n",
        "    Args:\n",
        "        lst (list): The input list.\n",
        "\n",
        "    Returns:\n",
        "        list: A new list with the first and last elements removed.\n",
        "    \"\"\"\n",
        "    trimmed_lst = lst[1:len(lst) - 1]  # Slice out first and last element\n",
        "    return trimmed_lst\n",
        "\n",
        "print(remove_first_last([10, 20, 30, 40, 50]))\n"
      ],
      "metadata": {
        "colab": {
          "base_uri": "https://localhost:8080/"
        },
        "id": "XYY5J4eeIAZo",
        "outputId": "8d80b387-aff7-4498-dbc2-0df9ea2649bd"
      },
      "execution_count": null,
      "outputs": [
        {
          "output_type": "stream",
          "name": "stdout",
          "text": [
            "[20, 30, 40]\n"
          ]
        }
      ]
    },
    {
      "cell_type": "markdown",
      "source": [
        "Exercise - 7"
      ],
      "metadata": {
        "id": "klwCRuanIODJ"
      }
    },
    {
      "cell_type": "code",
      "source": [
        "def get_first_n(lst, n):\n",
        "    \"\"\"\n",
        "    Returns the first 'n' elements from a given list.\n",
        "\n",
        "    Args:\n",
        "        lst (list): The input list.\n",
        "        n (int): The number of elements to retrieve.\n",
        "\n",
        "    Returns:\n",
        "        list: A new list containing the first 'n' elements.\n",
        "    \"\"\"\n",
        "    first_n = lst[:n]  # Get first 'n' elements\n",
        "    return first_n\n",
        "\n",
        "print(get_first_n([10, 20, 30, 40, 50], 3))\n"
      ],
      "metadata": {
        "colab": {
          "base_uri": "https://localhost:8080/"
        },
        "id": "441KlQ1MIRA9",
        "outputId": "b745a3a7-9557-4173-8317-4fad618b2225"
      },
      "execution_count": null,
      "outputs": [
        {
          "output_type": "stream",
          "name": "stdout",
          "text": [
            "[10, 20, 30]\n"
          ]
        }
      ]
    },
    {
      "cell_type": "markdown",
      "source": [
        "Exercise - 8"
      ],
      "metadata": {
        "id": "hV94bkfJIW3f"
      }
    },
    {
      "cell_type": "code",
      "source": [
        "def get_last_n(lst, n):\n",
        "    \"\"\"\n",
        "    Returns the last 'n' elements from a given list.\n",
        "\n",
        "    Args:\n",
        "        lst (list): The input list.\n",
        "        n (int): The number of elements to retrieve.\n",
        "\n",
        "    Returns:\n",
        "        list: A new list containing the last 'n' elements.\n",
        "    \"\"\"\n",
        "    last_n = lst[len(lst) - n:]  # Get last 'n' elements\n",
        "    return last_n\n",
        "\n",
        "print(get_last_n([10, 20, 30, 40, 50], 2))\n"
      ],
      "metadata": {
        "colab": {
          "base_uri": "https://localhost:8080/"
        },
        "id": "oORCv4_VIXk4",
        "outputId": "c1dbd18e-827d-4f84-fc80-69a603d9d1c3"
      },
      "execution_count": null,
      "outputs": [
        {
          "output_type": "stream",
          "name": "stdout",
          "text": [
            "[40, 50]\n"
          ]
        }
      ]
    },
    {
      "cell_type": "markdown",
      "source": [
        "Exercise - 9"
      ],
      "metadata": {
        "id": "FgCF1-QdIbtH"
      }
    },
    {
      "cell_type": "code",
      "source": [
        "def reverse_skip(lst):\n",
        "    \"\"\"\n",
        "    Reverses the list and returns every alternate element starting from the second one.\n",
        "\n",
        "    Args:\n",
        "        lst (list): The input list.\n",
        "\n",
        "    Returns:\n",
        "        list: A new list with elements reversed and every alternate element skipped.\n",
        "    \"\"\"\n",
        "    rev_lst = lst[::-1]  # Reverse the list\n",
        "    skipped_lst = rev_lst[1::2]  # Take alternate elements\n",
        "    return skipped_lst\n",
        "\n",
        "print(reverse_skip([10, 20, 30, 40, 50, 60]))\n"
      ],
      "metadata": {
        "colab": {
          "base_uri": "https://localhost:8080/"
        },
        "id": "AyJ9ChQrIdCm",
        "outputId": "cdba282b-1643-490c-c052-88394b2074ef"
      },
      "execution_count": null,
      "outputs": [
        {
          "output_type": "stream",
          "name": "stdout",
          "text": [
            "[50, 30, 10]\n"
          ]
        }
      ]
    },
    {
      "cell_type": "markdown",
      "source": [
        "Exercise - 10"
      ],
      "metadata": {
        "id": "zR6DoVCjK21f"
      }
    },
    {
      "cell_type": "code",
      "source": [
        "def flatten(lst):\n",
        "    \"\"\"\n",
        "    Flattens a nested list (one level deep) into a single list.\n",
        "\n",
        "    Args:\n",
        "        lst (list): A list containing sublists.\n",
        "\n",
        "    Returns:\n",
        "        list: A new list with all elements from the nested sublists combined into a single list.\n",
        "    \"\"\"\n",
        "    flat_lst = []  # Store flattened elements\n",
        "    for sublist in lst:\n",
        "        for item in sublist:\n",
        "            flat_lst.append(item)\n",
        "    return flat_lst\n",
        "\n",
        "print(flatten([[10, 20, 30], [40, 50, 60]]))\n"
      ],
      "metadata": {
        "colab": {
          "base_uri": "https://localhost:8080/"
        },
        "id": "4UwCf4trIk4c",
        "outputId": "a443381c-22f8-4853-b360-7a2233c922b5"
      },
      "execution_count": null,
      "outputs": [
        {
          "output_type": "stream",
          "name": "stdout",
          "text": [
            "[10, 20, 30, 40, 50, 60]\n"
          ]
        }
      ]
    },
    {
      "cell_type": "markdown",
      "source": [
        "Exercise - 11"
      ],
      "metadata": {
        "id": "eXEe1ucMIoLq"
      }
    },
    {
      "cell_type": "code",
      "source": [
        "def access_nested_element(lst, indices):\n",
        "    \"\"\"\n",
        "    Accesses an element from a nested list using a list of indices.\n",
        "\n",
        "    Args:\n",
        "        lst (list): The input nested list.\n",
        "        indices (list): A list of indices used to access the desired element.\n",
        "\n",
        "    Returns:\n",
        "        The element located at the specified indices.\n",
        "\n",
        "    Raises:\n",
        "        IndexError: If an index is out of range for the given list structure.\n",
        "    \"\"\"\n",
        "    for index in indices:\n",
        "        lst = lst[index]  # Navigate through indices\n",
        "    return lst\n",
        "\n",
        "print(access_nested_element([[10, 20, 30], [40, 50, 60], [70, 80, 90]], [1, 2]))\n"
      ],
      "metadata": {
        "colab": {
          "base_uri": "https://localhost:8080/"
        },
        "id": "O4vcSuL7IpCW",
        "outputId": "048fba4e-0629-4773-e815-f49318ae9828"
      },
      "execution_count": null,
      "outputs": [
        {
          "output_type": "stream",
          "name": "stdout",
          "text": [
            "60\n"
          ]
        }
      ]
    },
    {
      "cell_type": "markdown",
      "source": [
        "Exercise - 12"
      ],
      "metadata": {
        "id": "vp7tBsFHI0yv"
      }
    },
    {
      "cell_type": "code",
      "source": [
        "def sum_nested(lst):\n",
        "    \"\"\"\n",
        "    Sums all elements in a nested list, including sublists.\n",
        "\n",
        "    Args:\n",
        "        lst (list): The input nested list, which may contain numbers or sublists.\n",
        "\n",
        "    Returns:\n",
        "        int: The total sum of all elements in the nested list.\n",
        "    \"\"\"\n",
        "    total = 0  # Store sum\n",
        "    for sub in lst:\n",
        "        if isinstance(sub, list):\n",
        "            for val in sub:\n",
        "                if isinstance(val, list):\n",
        "                    for num in val:\n",
        "                        total += num\n",
        "                else:\n",
        "                    total += val\n",
        "        else:\n",
        "            total += sub\n",
        "    return total\n",
        "\n",
        "print(sum_nested([[10, 20], [30, [40, 50]], 60]))\n"
      ],
      "metadata": {
        "colab": {
          "base_uri": "https://localhost:8080/"
        },
        "id": "TDKcTxrPI0H1",
        "outputId": "0afa87a4-07f7-4a57-ad28-459fff018f81"
      },
      "execution_count": null,
      "outputs": [
        {
          "output_type": "stream",
          "name": "stdout",
          "text": [
            "210\n"
          ]
        }
      ]
    },
    {
      "cell_type": "markdown",
      "source": [
        "Exercise - 13"
      ],
      "metadata": {
        "id": "q8f7LFnFI4r2"
      }
    },
    {
      "cell_type": "code",
      "source": [
        "def remove_element(lst, elem):\n",
        "    \"\"\"\n",
        "    Removes all occurrences of a specific element from a nested list.\n",
        "\n",
        "    Args:\n",
        "        lst (list): The input nested list, which may contain numbers or sublists.\n",
        "        elem: The element to be removed from the list.\n",
        "\n",
        "    Returns:\n",
        "        list: The modified list with the specified element removed from all sublists.\n",
        "    \"\"\"\n",
        "    for sub in lst:\n",
        "        for val in sub:\n",
        "            if val == elem:\n",
        "                sub.remove(val)\n",
        "    return lst\n",
        "\n",
        "print(remove_element([[10, 20], [30, 20], [40, 50]], 20))\n"
      ],
      "metadata": {
        "colab": {
          "base_uri": "https://localhost:8080/"
        },
        "id": "7MLV-9QnI5wH",
        "outputId": "768139cd-7242-40e3-f58c-00ebf0dff331"
      },
      "execution_count": null,
      "outputs": [
        {
          "output_type": "stream",
          "name": "stdout",
          "text": [
            "[[10], [30], [40, 50]]\n"
          ]
        }
      ]
    },
    {
      "cell_type": "markdown",
      "source": [
        "Exercise - 14"
      ],
      "metadata": {
        "id": "OMfIlAV8JAI8"
      }
    },
    {
      "cell_type": "code",
      "source": [
        "def find_max(lst):\n",
        "    \"\"\"\n",
        "    Finds the maximum number in a nested list, which may contain other lists.\n",
        "\n",
        "    Args:\n",
        "        lst (list): The input nested list, which may contain numbers or sublists.\n",
        "\n",
        "    Returns:\n",
        "        int or float: The maximum number found in the nested list.\n",
        "    \"\"\"\n",
        "    max_val = float('-inf')  # Initialize with smallest possible value\n",
        "    for sub in lst:\n",
        "        if isinstance(sub, list):\n",
        "            for val in sub:\n",
        "                if isinstance(val, list):\n",
        "                    for num in val:\n",
        "                        if num > max_val:\n",
        "                            max_val = num\n",
        "                else:\n",
        "                    if val > max_val:\n",
        "                        max_val = val\n",
        "        else:\n",
        "            if sub > max_val:\n",
        "                max_val = sub\n",
        "    return max_val\n",
        "\n",
        "print(find_max([[10, 20], [30, [40, 50]], 60]))\n"
      ],
      "metadata": {
        "colab": {
          "base_uri": "https://localhost:8080/"
        },
        "id": "5iyn3XLNJCye",
        "outputId": "ed06ab18-461d-4c65-c85a-3e0b17130c85"
      },
      "execution_count": null,
      "outputs": [
        {
          "output_type": "stream",
          "name": "stdout",
          "text": [
            "60\n"
          ]
        }
      ]
    },
    {
      "cell_type": "markdown",
      "source": [
        "Exercise - 15"
      ],
      "metadata": {
        "id": "nqQp8VuCJJQv"
      }
    },
    {
      "cell_type": "code",
      "source": [
        "def count_occurences(lst, elem):\n",
        "    \"\"\"\n",
        "    Counts the occurrences of a specific element in a nested list.\n",
        "\n",
        "    Args:\n",
        "        lst (list): The input nested list, which may contain numbers or sublists.\n",
        "        elem: The element whose occurrences are to be counted.\n",
        "\n",
        "    Returns:\n",
        "        int: The count of occurrences of the specified element in the nested list.\n",
        "    \"\"\"\n",
        "    count = 0  # Count occurrences\n",
        "    for sub in lst:\n",
        "        for val in sub:\n",
        "            if val == elem:\n",
        "                count += 1\n",
        "    return count\n",
        "\n",
        "print(count_occurences([[10, 20], [30, 20], [40, 20]], 20))\n"
      ],
      "metadata": {
        "colab": {
          "base_uri": "https://localhost:8080/"
        },
        "id": "O_Im4KB9JKMm",
        "outputId": "e4ef7ae9-081d-4332-c14b-538a20c0100c"
      },
      "execution_count": null,
      "outputs": [
        {
          "output_type": "stream",
          "name": "stdout",
          "text": [
            "3\n"
          ]
        }
      ]
    },
    {
      "cell_type": "markdown",
      "source": [
        "Exercise - 16"
      ],
      "metadata": {
        "id": "vj9wkqqZJPMW"
      }
    },
    {
      "cell_type": "code",
      "source": [
        "def deep_flatten(lst):\n",
        "    \"\"\"\n",
        "    Flattens a nested list (of arbitrary depth) into a single list.\n",
        "\n",
        "    Args:\n",
        "        lst (list): The input nested list, which may contain numbers or sublists.\n",
        "\n",
        "    Returns:\n",
        "        list: A new list with all elements from the nested sublists combined into a single list.\n",
        "    \"\"\"\n",
        "    flat_lst = []  # Store flattened elements\n",
        "    for sub in lst:\n",
        "        if isinstance(sub, list):\n",
        "            for val in sub:\n",
        "                if isinstance(val, list):\n",
        "                    for num in val:\n",
        "                        flat_lst.append(num)\n",
        "                else:\n",
        "                    flat_lst.append(val)\n",
        "        else:\n",
        "            flat_lst.append(sub)\n",
        "    return flat_lst\n",
        "\n",
        "print(deep_flatten([[10, 20], [30, [40, 50]], 60]))\n"
      ],
      "metadata": {
        "colab": {
          "base_uri": "https://localhost:8080/"
        },
        "id": "rthzabyxJQpc",
        "outputId": "8c4912a2-d7e7-42c2-8337-b24fb77009b7"
      },
      "execution_count": null,
      "outputs": [
        {
          "output_type": "stream",
          "name": "stdout",
          "text": [
            "[10, 20, 30, 40, 50, 60]\n"
          ]
        }
      ]
    },
    {
      "cell_type": "markdown",
      "source": [
        "Exercise - 17"
      ],
      "metadata": {
        "id": "jK4oVo0mJVGY"
      }
    },
    {
      "cell_type": "code",
      "source": [
        "def average_nested(lst):\n",
        "    \"\"\"\n",
        "    Calculates the average of all numbers in a nested list.\n",
        "\n",
        "    Args:\n",
        "        lst (list): The input nested list, which may contain numbers or sublists.\n",
        "\n",
        "    Returns:\n",
        "        float: The average of all the numbers in the nested list.\n",
        "    \"\"\"\n",
        "    total = 0  # Store sum\n",
        "    count = 0  # Count elements\n",
        "    for sub in lst:\n",
        "        for val in sub:\n",
        "            total += val\n",
        "            count += 1\n",
        "    return total / count  # Calculate average\n",
        "\n",
        "print(average_nested([[10, 20], [30, 40], [50, 60]]))\n"
      ],
      "metadata": {
        "colab": {
          "base_uri": "https://localhost:8080/"
        },
        "id": "3AUbm_zoJV3-",
        "outputId": "4afad724-5756-4e29-be87-926216704805"
      },
      "execution_count": null,
      "outputs": [
        {
          "output_type": "stream",
          "name": "stdout",
          "text": [
            "35.0\n"
          ]
        }
      ]
    },
    {
      "cell_type": "markdown",
      "source": [
        "Exercise-10 NUMPY\n",
        "\n",
        "\n"
      ],
      "metadata": {
        "id": "T5bbz7mx79fc"
      }
    },
    {
      "cell_type": "code",
      "execution_count": null,
      "metadata": {
        "id": "CUi1bwGTO0iQ"
      },
      "outputs": [],
      "source": [
        "import numpy as np"
      ]
    },
    {
      "cell_type": "code",
      "source": [
        "square_matrix = np.empty([2,2])\n",
        "print(square_matrix)"
      ],
      "metadata": {
        "colab": {
          "base_uri": "https://localhost:8080/"
        },
        "id": "f7EIf7EuP66n",
        "outputId": "b9730858-369b-4064-f3ae-ce8d95d49a43"
      },
      "execution_count": null,
      "outputs": [
        {
          "output_type": "stream",
          "name": "stdout",
          "text": [
            "[[2.30216646e-316 0.00000000e+000]\n",
            " [2.05833592e-312             nan]]\n"
          ]
        }
      ]
    },
    {
      "cell_type": "code",
      "source": [
        "rect_matrix = np.ones([4,2])"
      ],
      "metadata": {
        "id": "VxDO0MMhQWU0"
      },
      "execution_count": null,
      "outputs": []
    },
    {
      "cell_type": "code",
      "source": [
        "a = np.full([2,2],6,dtype= int)"
      ],
      "metadata": {
        "id": "IIjsnD3hQoz_"
      },
      "execution_count": null,
      "outputs": []
    },
    {
      "cell_type": "code",
      "source": [
        "b=np.zeros_like(a)"
      ],
      "metadata": {
        "id": "DcR7SM6pRRIG"
      },
      "execution_count": null,
      "outputs": []
    },
    {
      "cell_type": "code",
      "source": [
        "c=np.ones_like(a)"
      ],
      "metadata": {
        "id": "giGXZTVUSHFo"
      },
      "execution_count": null,
      "outputs": []
    },
    {
      "cell_type": "code",
      "source": [
        "new_list = [1,2,3,4]\n",
        "np.array(new_list)"
      ],
      "metadata": {
        "colab": {
          "base_uri": "https://localhost:8080/"
        },
        "id": "Y30ycF69SMiL",
        "outputId": "8a215275-8804-4f7e-cda5-041a1e34e98e"
      },
      "execution_count": null,
      "outputs": [
        {
          "output_type": "execute_result",
          "data": {
            "text/plain": [
              "array([1, 2, 3, 4])"
            ]
          },
          "metadata": {},
          "execution_count": 30
        }
      ]
    },
    {
      "cell_type": "markdown",
      "source": [
        "Question 2\n"
      ],
      "metadata": {
        "id": "lDMm_2lvSwD5"
      }
    },
    {
      "cell_type": "code",
      "source": [
        "d = np.arange(10,49)"
      ],
      "metadata": {
        "id": "32fjzqvLSx7i"
      },
      "execution_count": null,
      "outputs": []
    },
    {
      "cell_type": "code",
      "source": [
        "e = np.arange(0,9)\n",
        "e.reshape(3,3)"
      ],
      "metadata": {
        "colab": {
          "base_uri": "https://localhost:8080/"
        },
        "id": "5T-NseCKTFWK",
        "outputId": "0ed9d47c-aacb-4319-a3b0-2b8ec5bb89bc"
      },
      "execution_count": null,
      "outputs": [
        {
          "output_type": "execute_result",
          "data": {
            "text/plain": [
              "array([[0, 1, 2],\n",
              "       [3, 4, 5],\n",
              "       [6, 7, 8]])"
            ]
          },
          "metadata": {},
          "execution_count": 32
        }
      ]
    },
    {
      "cell_type": "code",
      "source": [
        "g = np.eye(3)"
      ],
      "metadata": {
        "id": "G1czPLGXTvQc"
      },
      "execution_count": null,
      "outputs": []
    },
    {
      "cell_type": "code",
      "source": [
        "f = np.random.random(size=30)\n",
        "f.mean()"
      ],
      "metadata": {
        "colab": {
          "base_uri": "https://localhost:8080/"
        },
        "id": "jhSCg1A4TWRV",
        "outputId": "93ac20ef-d660-43a9-d711-81feb44b283d"
      },
      "execution_count": null,
      "outputs": [
        {
          "output_type": "execute_result",
          "data": {
            "text/plain": [
              "0.4748712850178034"
            ]
          },
          "metadata": {},
          "execution_count": 34
        }
      ]
    },
    {
      "cell_type": "code",
      "source": [
        "h = np.random.random(size = 100)\n",
        "h.reshape(10,10)\n"
      ],
      "metadata": {
        "colab": {
          "base_uri": "https://localhost:8080/"
        },
        "id": "NlIZF5b6T-PO",
        "outputId": "d25f8491-b407-4921-d2d3-25c29a660eed"
      },
      "execution_count": null,
      "outputs": [
        {
          "output_type": "execute_result",
          "data": {
            "text/plain": [
              "array([[0.84746204, 0.33472517, 0.02211027, 0.23177367, 0.29023108,\n",
              "        0.29440369, 0.46606844, 0.06560673, 0.5586054 , 0.78566273],\n",
              "       [0.91470865, 0.20560412, 0.44979931, 0.12915816, 0.22085212,\n",
              "        0.46761253, 0.05559444, 0.78211453, 0.87901893, 0.89128576],\n",
              "       [0.93635123, 0.06422125, 0.39988678, 0.11122731, 0.00938823,\n",
              "        0.6930762 , 0.61198871, 0.10308069, 0.69736162, 0.12337661],\n",
              "       [0.38610329, 0.36625188, 0.10899625, 0.11952389, 0.73342533,\n",
              "        0.44994732, 0.16120621, 0.93915173, 0.21034198, 0.87353621],\n",
              "       [0.20946219, 0.62990797, 0.53693431, 0.30944637, 0.67945359,\n",
              "        0.26819966, 0.9207948 , 0.34854646, 0.52222547, 0.36328485],\n",
              "       [0.6466111 , 0.79553258, 0.44266177, 0.40255319, 0.88232943,\n",
              "        0.30697293, 0.74930795, 0.01926479, 0.07221937, 0.72929921],\n",
              "       [0.54817125, 0.26442438, 0.93422847, 0.81567499, 0.65859367,\n",
              "        0.93565095, 0.51574765, 0.82465454, 0.56838113, 0.5993483 ],\n",
              "       [0.01230036, 0.15598556, 0.63992771, 0.26021247, 0.9353408 ,\n",
              "        0.99345209, 0.08408062, 0.07400958, 0.96863897, 0.73717008],\n",
              "       [0.85202509, 0.7786715 , 0.25952041, 0.27626002, 0.53107876,\n",
              "        0.00327474, 0.1077091 , 0.7278006 , 0.2147606 , 0.83119634],\n",
              "       [0.49358821, 0.45298364, 0.65538468, 0.86368572, 0.94065455,\n",
              "        0.31587738, 0.47929159, 0.30915064, 0.0921824 , 0.540712  ]])"
            ]
          },
          "metadata": {},
          "execution_count": 35
        }
      ]
    },
    {
      "cell_type": "code",
      "source": [
        "np.max(h)\n"
      ],
      "metadata": {
        "colab": {
          "base_uri": "https://localhost:8080/"
        },
        "id": "VuqXAhuZUihJ",
        "outputId": "1cd6fdfe-62a1-46b4-8804-42c27e27d973"
      },
      "execution_count": null,
      "outputs": [
        {
          "output_type": "execute_result",
          "data": {
            "text/plain": [
              "0.9934520905319837"
            ]
          },
          "metadata": {},
          "execution_count": 36
        }
      ]
    },
    {
      "cell_type": "code",
      "source": [
        "np.min(h)"
      ],
      "metadata": {
        "colab": {
          "base_uri": "https://localhost:8080/"
        },
        "id": "TyTKCB9mUkLl",
        "outputId": "2c8f47d0-c7b0-481c-8832-090872e59813"
      },
      "execution_count": null,
      "outputs": [
        {
          "output_type": "execute_result",
          "data": {
            "text/plain": [
              "0.003274736266947298"
            ]
          },
          "metadata": {},
          "execution_count": 37
        }
      ]
    },
    {
      "cell_type": "code",
      "source": [
        "i = np.zeros(10)\n",
        "new_value = 1\n",
        "i[4] = new_value\n",
        "print(i)"
      ],
      "metadata": {
        "colab": {
          "base_uri": "https://localhost:8080/"
        },
        "id": "DjRxhprqUnkY",
        "outputId": "5b57d8cb-6493-4643-9fc1-cc526a13fe15"
      },
      "execution_count": null,
      "outputs": [
        {
          "output_type": "stream",
          "name": "stdout",
          "text": [
            "[0. 0. 0. 0. 1. 0. 0. 0. 0. 0.]\n"
          ]
        }
      ]
    },
    {
      "cell_type": "code",
      "source": [
        "arr = [1,2,0,0,4,0]\n",
        "new_arr = np.flip(arr)\n",
        "print(new_arr)"
      ],
      "metadata": {
        "colab": {
          "base_uri": "https://localhost:8080/"
        },
        "id": "g49wOGGqVnCB",
        "outputId": "4b35f46d-7f3a-4bde-c299-44d6373cd1a0"
      },
      "execution_count": null,
      "outputs": [
        {
          "output_type": "stream",
          "name": "stdout",
          "text": [
            "[0 4 0 0 2 1]\n"
          ]
        }
      ]
    },
    {
      "cell_type": "code",
      "source": [
        "k = np.zeros((2,2))\n",
        "k = np.pad(k, pad_width=1, mode='constant', constant_values=1)\n",
        "print(k)"
      ],
      "metadata": {
        "colab": {
          "base_uri": "https://localhost:8080/"
        },
        "id": "clx81LubV9LW",
        "outputId": "96bc45c2-6c31-4ed5-d28f-90f44aa04185"
      },
      "execution_count": null,
      "outputs": [
        {
          "output_type": "stream",
          "name": "stdout",
          "text": [
            "[[1. 1. 1. 1.]\n",
            " [1. 0. 0. 1.]\n",
            " [1. 0. 0. 1.]\n",
            " [1. 1. 1. 1.]]\n"
          ]
        }
      ]
    },
    {
      "cell_type": "code",
      "source": [
        "z = np.zeros((8,8),dtype=int)\n",
        "#to slice elements from index first row and fill the colums with one\n",
        "#to slice from 0th row and fill with 1\n",
        "z[1::2, ::2] = 1\n",
        "z[::2, 1::2] = 1\n",
        "\n",
        "for i in range(8):\n",
        "  for j in range(8):\n",
        "    print(z[i][j],end = \" \")\n",
        "  print()"
      ],
      "metadata": {
        "colab": {
          "base_uri": "https://localhost:8080/"
        },
        "id": "9KdSTQ8kWpkT",
        "outputId": "8b4c8c13-49c9-4201-9476-72a9c858d50d"
      },
      "execution_count": null,
      "outputs": [
        {
          "output_type": "stream",
          "name": "stdout",
          "text": [
            "0 1 0 1 0 1 0 1 \n",
            "1 0 1 0 1 0 1 0 \n",
            "0 1 0 1 0 1 0 1 \n",
            "1 0 1 0 1 0 1 0 \n",
            "0 1 0 1 0 1 0 1 \n",
            "1 0 1 0 1 0 1 0 \n",
            "0 1 0 1 0 1 0 1 \n",
            "1 0 1 0 1 0 1 0 \n"
          ]
        }
      ]
    },
    {
      "cell_type": "markdown",
      "source": [
        "Question-3"
      ],
      "metadata": {
        "id": "y6XTJyYCX6wI"
      }
    },
    {
      "cell_type": "code",
      "source": [
        "x = np.array([[1,2],[3,5]])\n",
        "y = np.array([[5,6],[7,8]])\n",
        "v = np.array([9,10])\n",
        "w = np.array([11,12])"
      ],
      "metadata": {
        "id": "wg-xLWXWX8RH"
      },
      "execution_count": null,
      "outputs": []
    },
    {
      "cell_type": "code",
      "source": [
        "sum = np.add(x,y)\n",
        "print(sum)\n"
      ],
      "metadata": {
        "colab": {
          "base_uri": "https://localhost:8080/"
        },
        "id": "_FiQCX0uYN4x",
        "outputId": "f9a5077b-e318-473a-f9a7-3e5665683889"
      },
      "execution_count": null,
      "outputs": [
        {
          "output_type": "stream",
          "name": "stdout",
          "text": [
            "[[ 6  8]\n",
            " [10 13]]\n"
          ]
        }
      ]
    },
    {
      "cell_type": "code",
      "source": [
        "sum1 = np.add(v,w)\n",
        "print(sum1)"
      ],
      "metadata": {
        "colab": {
          "base_uri": "https://localhost:8080/"
        },
        "id": "UkfRBbpWYoUV",
        "outputId": "4bf220bf-a8b9-444d-dce6-da3ec5b9e0f2"
      },
      "execution_count": null,
      "outputs": [
        {
          "output_type": "stream",
          "name": "stdout",
          "text": [
            "[20 22]\n"
          ]
        }
      ]
    },
    {
      "cell_type": "code",
      "source": [
        "diff = np.subtract(x,y)\n",
        "diff1 = np.subtract(v,w)\n",
        "print(\"diff of x and y is:\", diff)\n",
        "print(\"diff of v and w is:\", diff1)"
      ],
      "metadata": {
        "colab": {
          "base_uri": "https://localhost:8080/"
        },
        "id": "uDAFZiuTYzx2",
        "outputId": "c9585904-b1b5-43e5-c5eb-773c33b1161d"
      },
      "execution_count": null,
      "outputs": [
        {
          "output_type": "stream",
          "name": "stdout",
          "text": [
            "diff of x and y is: [[-4 -4]\n",
            " [-4 -3]]\n",
            "diff of v and w is: [-2 -2]\n"
          ]
        }
      ]
    },
    {
      "cell_type": "code",
      "source": [
        "product = np.multiply(2,x)\n",
        "product1 = np.multiply(3,y)\n",
        "product2 = np.multiply(4,v)\n",
        "product3 = np.multiply(5,w)\n",
        "print(\"x:\", product)\n",
        "print(\"y:\", product1)\n",
        "print(\"v:\", product2)\n",
        "print(\"w:\", product3)"
      ],
      "metadata": {
        "colab": {
          "base_uri": "https://localhost:8080/"
        },
        "id": "Be1BB7qOZK-b",
        "outputId": "f51b5dfd-6c2e-4ab9-b990-fb2dff4ab939"
      },
      "execution_count": null,
      "outputs": [
        {
          "output_type": "stream",
          "name": "stdout",
          "text": [
            "x: [[ 2  4]\n",
            " [ 6 10]]\n",
            "y: [[15 18]\n",
            " [21 24]]\n",
            "v: [36 40]\n",
            "w: [55 60]\n"
          ]
        }
      ]
    },
    {
      "cell_type": "code",
      "source": [
        "dot = np.dot(v,w)\n",
        "dot1 = np.dot(x,v)\n",
        "dot2 = np.dot(x,y)\n",
        "print(\"dot product of v and w :\", dot)\n",
        "print(\"dot product of x and v :\", dot1)\n",
        "print(\"dot product of x and y :\", dot2)"
      ],
      "metadata": {
        "colab": {
          "base_uri": "https://localhost:8080/"
        },
        "id": "zOBVEGTFZ5dj",
        "outputId": "59a15686-72ef-46ca-f9f8-578003001eeb"
      },
      "execution_count": null,
      "outputs": [
        {
          "output_type": "stream",
          "name": "stdout",
          "text": [
            "dot product of v and w : 219\n",
            "dot product of x and v : [29 77]\n",
            "dot product of x and y : [[19 22]\n",
            " [50 58]]\n"
          ]
        }
      ]
    },
    {
      "cell_type": "code",
      "source": [
        "row = np.vstack((x,y))\n",
        "column = np.hstack((v,w))\n",
        "print(row)\n",
        "print(column)"
      ],
      "metadata": {
        "colab": {
          "base_uri": "https://localhost:8080/"
        },
        "id": "yA2dxJkRabSp",
        "outputId": "f1964133-e298-4543-ec30-4948fb3ba2d6"
      },
      "execution_count": null,
      "outputs": [
        {
          "output_type": "stream",
          "name": "stdout",
          "text": [
            "[[1 2]\n",
            " [3 5]\n",
            " [5 6]\n",
            " [7 8]]\n",
            "[ 9 10 11 12]\n"
          ]
        }
      ]
    },
    {
      "cell_type": "code",
      "source": [
        "err = np.concatenate((x,v))\n",
        "# we get an error ass the dimension of x and v are not same and to concatenate two arrays we require the same dimension for both inputs"
      ],
      "metadata": {
        "colab": {
          "base_uri": "https://localhost:8080/",
          "height": 159
        },
        "id": "bFuQLUjWa-Wz",
        "outputId": "0b5dbdda-e8e9-4bd4-c60c-0d5bdbb511d6"
      },
      "execution_count": null,
      "outputs": [
        {
          "output_type": "error",
          "ename": "ValueError",
          "evalue": "all the input arrays must have same number of dimensions, but the array at index 0 has 2 dimension(s) and the array at index 1 has 1 dimension(s)",
          "traceback": [
            "\u001b[0;31m---------------------------------------------------------------------------\u001b[0m",
            "\u001b[0;31mValueError\u001b[0m                                Traceback (most recent call last)",
            "\u001b[0;32m<ipython-input-49-5e7dc470d408>\u001b[0m in \u001b[0;36m<cell line: 0>\u001b[0;34m()\u001b[0m\n\u001b[0;32m----> 1\u001b[0;31m \u001b[0merr\u001b[0m \u001b[0;34m=\u001b[0m \u001b[0mnp\u001b[0m\u001b[0;34m.\u001b[0m\u001b[0mconcatenate\u001b[0m\u001b[0;34m(\u001b[0m\u001b[0;34m(\u001b[0m\u001b[0mx\u001b[0m\u001b[0;34m,\u001b[0m\u001b[0mv\u001b[0m\u001b[0;34m)\u001b[0m\u001b[0;34m)\u001b[0m\u001b[0;34m\u001b[0m\u001b[0;34m\u001b[0m\u001b[0m\n\u001b[0m\u001b[1;32m      2\u001b[0m \u001b[0;31m# we get an error ass the dimension of x and v are not same and to concatenate two arrays we require the same dimension for both inputs\u001b[0m\u001b[0;34m\u001b[0m\u001b[0;34m\u001b[0m\u001b[0m\n",
            "\u001b[0;31mValueError\u001b[0m: all the input arrays must have same number of dimensions, but the array at index 0 has 2 dimension(s) and the array at index 1 has 1 dimension(s)"
          ]
        }
      ]
    },
    {
      "cell_type": "markdown",
      "source": [
        "Question-4"
      ],
      "metadata": {
        "id": "dbjGJ06GbXDf"
      }
    },
    {
      "cell_type": "code",
      "source": [
        "A = np.array([[3,4],[7,8]])\n",
        "B = np.array([[5,3],[2,1]])\n"
      ],
      "metadata": {
        "id": "lhkzeATUbX_9"
      },
      "execution_count": null,
      "outputs": []
    },
    {
      "cell_type": "code",
      "source": [
        "A_inv = np.linalg.inv(A)\n",
        "print(A_inv)"
      ],
      "metadata": {
        "colab": {
          "base_uri": "https://localhost:8080/"
        },
        "id": "w1nLMCfvbels",
        "outputId": "4ea3e4ba-ef42-4cdd-c5f4-8831319fc7e2"
      },
      "execution_count": null,
      "outputs": [
        {
          "output_type": "stream",
          "name": "stdout",
          "text": [
            "[[-2.    1.  ]\n",
            " [ 1.75 -0.75]]\n"
          ]
        }
      ]
    },
    {
      "cell_type": "code",
      "source": [
        "proof = np.dot(A,A_inv)\n",
        "print(np.round_(proof))"
      ],
      "metadata": {
        "colab": {
          "base_uri": "https://localhost:8080/"
        },
        "id": "Mh6U6I4ab9C0",
        "outputId": "3b22c85e-ae17-46db-bcc9-75d9075028c8"
      },
      "execution_count": null,
      "outputs": [
        {
          "output_type": "stream",
          "name": "stdout",
          "text": [
            "[[1. 0.]\n",
            " [0. 1.]]\n"
          ]
        }
      ]
    },
    {
      "cell_type": "code",
      "source": [
        "AB = np.dot(A,B)\n",
        "print(AB)\n",
        "BA = np.dot(B,A)\n",
        "print(BA)\n"
      ],
      "metadata": {
        "colab": {
          "base_uri": "https://localhost:8080/"
        },
        "id": "IY7cNi12dEcs",
        "outputId": "dffe9ea1-a91a-40e2-dd37-7d11e2fabcc8"
      },
      "execution_count": null,
      "outputs": [
        {
          "output_type": "stream",
          "name": "stdout",
          "text": [
            "[[23 13]\n",
            " [51 29]]\n",
            "[[36 44]\n",
            " [13 16]]\n"
          ]
        }
      ]
    },
    {
      "cell_type": "code",
      "source": [
        "AB == BA"
      ],
      "metadata": {
        "colab": {
          "base_uri": "https://localhost:8080/"
        },
        "id": "jk5pVxFifS5o",
        "outputId": "dce5e8a6-3552-4e4d-ed5c-697477b953dc"
      },
      "execution_count": null,
      "outputs": [
        {
          "output_type": "execute_result",
          "data": {
            "text/plain": [
              "array([[False, False],\n",
              "       [False, False]])"
            ]
          },
          "metadata": {},
          "execution_count": 54
        }
      ]
    },
    {
      "cell_type": "code",
      "source": [
        "trans = AB.transpose()\n",
        "print(trans)"
      ],
      "metadata": {
        "colab": {
          "base_uri": "https://localhost:8080/"
        },
        "id": "fAoSPX_Mdb-Q",
        "outputId": "b59d175b-f995-4f71-da0b-0395e19b767a"
      },
      "execution_count": null,
      "outputs": [
        {
          "output_type": "stream",
          "name": "stdout",
          "text": [
            "[[23 51]\n",
            " [13 29]]\n"
          ]
        }
      ]
    },
    {
      "cell_type": "code",
      "source": [
        "transA = A.transpose()\n",
        "transB = B.transpose()\n",
        "transBA = np.dot(transB,transA)\n",
        "print(transBA)\n"
      ],
      "metadata": {
        "colab": {
          "base_uri": "https://localhost:8080/"
        },
        "id": "3WUAD_DodvJp",
        "outputId": "f7270e8a-6c11-4dcc-e96e-4076349fe612"
      },
      "execution_count": null,
      "outputs": [
        {
          "output_type": "stream",
          "name": "stdout",
          "text": [
            "[[23 51]\n",
            " [13 29]]\n"
          ]
        }
      ]
    },
    {
      "cell_type": "code",
      "source": [
        "trans == transBA"
      ],
      "metadata": {
        "colab": {
          "base_uri": "https://localhost:8080/"
        },
        "id": "dgrtKGIHfOe0",
        "outputId": "80176778-7f63-48a3-9aa9-705e5ae83fd1"
      },
      "execution_count": null,
      "outputs": [
        {
          "output_type": "execute_result",
          "data": {
            "text/plain": [
              "array([[ True,  True],\n",
              "       [ True,  True]])"
            ]
          },
          "metadata": {},
          "execution_count": 57
        }
      ]
    },
    {
      "cell_type": "code",
      "source": [
        "mat_A = np.array([[2, -3, 1],\n",
        "              [1, -1, 2],\n",
        "              [3, 1, -1]])\n",
        "\n",
        "mat_B = np.array([-1, -3, 9])\n",
        "\n",
        "\n",
        "matA_inv = np.linalg.inv(mat_A)\n",
        "\n",
        "X = np.dot(matA_inv, mat_B)\n",
        "\n",
        "# Print the solution\n",
        "print(\"Solution: x =\", X[0], \", y =\", X[1], \", z =\", X[2])\n"
      ],
      "metadata": {
        "colab": {
          "base_uri": "https://localhost:8080/"
        },
        "id": "2xDs4wkEeDbF",
        "outputId": "030a5a89-4f92-4095-937c-1f5867740b94"
      },
      "execution_count": null,
      "outputs": [
        {
          "output_type": "stream",
          "name": "stdout",
          "text": [
            "Solution: x = 2.0 , y = 1.0 , z = -2.0\n"
          ]
        }
      ]
    }
  ]
}